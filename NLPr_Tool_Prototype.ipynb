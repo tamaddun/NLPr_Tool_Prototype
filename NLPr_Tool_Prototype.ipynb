{
 "cells": [
  {
   "cell_type": "code",
   "execution_count": 10,
   "metadata": {},
   "outputs": [],
   "source": [
    "# Import leafmap to creat map centered on the USA\n",
    "import leafmap.leafmap as leafmap\n",
    "m = leafmap.Map(center=[37, -95],zoom=4, # center=[lat, lon] # height=\"600px\",width=\"800px\",\n",
    "                draw_control=False,\n",
    "                measure_control=False,\n",
    "                fullscreen_control=False,\n",
    "                attribution_control=True,)"
   ]
  },
  {
   "cell_type": "code",
   "execution_count": 11,
   "metadata": {},
   "outputs": [],
   "source": [
    "# Import geopandas to read data\n",
    "import geopandas as gpd  \n",
    "NPD = gpd.read_file('NP_Inventory_MASTER.shp')"
   ]
  },
  {
   "cell_type": "code",
   "execution_count": 12,
   "metadata": {},
   "outputs": [],
   "source": [
    "# Calculate environmental and community impact score\n",
    "NPD['ENV_SCORE'] = NPD['SUM_AQI_ST']+NPD['CAP_25MI_S']+NPD['CAP_50MI_S']\n",
    "NPD['COMM_SCORE'] = NPD['HAZ_TOTAL_']+NPD['SUM_AQI_ST']+NPD['CAP_25MI_S']+NPD['CAP_50MI_S']+NPD['SOC_VUL']"
   ]
  },
  {
   "cell_type": "code",
   "execution_count": 13,
   "metadata": {},
   "outputs": [],
   "source": [
    "# Assign weights\n",
    "env_wt = 1.0\n",
    "comm_wt = 0.0\n",
    "NPD['TOTAL_SCORE'] = env_wt*NPD['ENV_SCORE'] + comm_wt*NPD['COMM_SCORE']"
   ]
  },
  {
   "cell_type": "code",
   "execution_count": 14,
   "metadata": {},
   "outputs": [
    {
     "data": {
      "text/html": [
       "<div>\n",
       "<style scoped>\n",
       "    .dataframe tbody tr th:only-of-type {\n",
       "        vertical-align: middle;\n",
       "    }\n",
       "\n",
       "    .dataframe tbody tr th {\n",
       "        vertical-align: top;\n",
       "    }\n",
       "\n",
       "    .dataframe thead th {\n",
       "        text-align: right;\n",
       "    }\n",
       "</style>\n",
       "<table border=\"1\" class=\"dataframe\">\n",
       "  <thead>\n",
       "    <tr style=\"text-align: right;\">\n",
       "      <th></th>\n",
       "      <th>NID_ID</th>\n",
       "      <th>DAM_NAME</th>\n",
       "      <th>OWNER_NAME</th>\n",
       "      <th>DAM_COND</th>\n",
       "      <th>HAZ_POT_DS</th>\n",
       "      <th>PROT_LAND</th>\n",
       "      <th>IMP_STREAM</th>\n",
       "      <th>CRIT_HAB</th>\n",
       "    </tr>\n",
       "  </thead>\n",
       "  <tbody>\n",
       "    <tr>\n",
       "      <th>437</th>\n",
       "      <td>TX03416</td>\n",
       "      <td>LAKE HOUSTON DAM</td>\n",
       "      <td>CITY OF HOUSTON</td>\n",
       "      <td>NOT RATED</td>\n",
       "      <td>NOT AVAILABLE</td>\n",
       "      <td>NO</td>\n",
       "      <td>NO</td>\n",
       "      <td>NO</td>\n",
       "    </tr>\n",
       "    <tr>\n",
       "      <th>274</th>\n",
       "      <td>NJ00354</td>\n",
       "      <td>BOONTON DAM</td>\n",
       "      <td>JERSEY CITY MUNICIPAL UTILITIES AUTHORITY</td>\n",
       "      <td>SATISFACTORY</td>\n",
       "      <td>HIGH</td>\n",
       "      <td>NO</td>\n",
       "      <td>YES</td>\n",
       "      <td>NO</td>\n",
       "    </tr>\n",
       "    <tr>\n",
       "      <th>291</th>\n",
       "      <td>NY00046</td>\n",
       "      <td>NEW CROTON RESERVOIR DAM</td>\n",
       "      <td>NYCDEP DAMS EAST OF THE HUDSON RIVER</td>\n",
       "      <td>NOT RATED</td>\n",
       "      <td>HIGH</td>\n",
       "      <td>NO</td>\n",
       "      <td>YES</td>\n",
       "      <td>NO</td>\n",
       "    </tr>\n",
       "    <tr>\n",
       "      <th>394</th>\n",
       "      <td>PA00896</td>\n",
       "      <td>FLAT ROCK</td>\n",
       "      <td>DEP</td>\n",
       "      <td>FAIR</td>\n",
       "      <td>LOW</td>\n",
       "      <td>NO</td>\n",
       "      <td>NO</td>\n",
       "      <td>NO</td>\n",
       "    </tr>\n",
       "    <tr>\n",
       "      <th>395</th>\n",
       "      <td>PA00897</td>\n",
       "      <td>FAIRMOUNT</td>\n",
       "      <td>None</td>\n",
       "      <td>NOT AVAILABLE</td>\n",
       "      <td>NOT AVAILABLE</td>\n",
       "      <td>NO</td>\n",
       "      <td>NO</td>\n",
       "      <td>NO</td>\n",
       "    </tr>\n",
       "    <tr>\n",
       "      <th>68</th>\n",
       "      <td>FL00169</td>\n",
       "      <td>CITY OF TAMPA WATERWORKS DAM</td>\n",
       "      <td>CITY OF TAMPA</td>\n",
       "      <td>SATISFACTORY</td>\n",
       "      <td>HIGH</td>\n",
       "      <td>NO</td>\n",
       "      <td>NO</td>\n",
       "      <td>NO</td>\n",
       "    </tr>\n",
       "    <tr>\n",
       "      <th>80</th>\n",
       "      <td>GA01473</td>\n",
       "      <td>DANIELL LAKE DAM</td>\n",
       "      <td>INDUSTRIAL PARK OWNERS ASSOCIATION</td>\n",
       "      <td>NOT RATED</td>\n",
       "      <td>LOW</td>\n",
       "      <td>NO</td>\n",
       "      <td>NO</td>\n",
       "      <td>NO</td>\n",
       "    </tr>\n",
       "    <tr>\n",
       "      <th>292</th>\n",
       "      <td>NY00061</td>\n",
       "      <td>MUSCOOT DAM</td>\n",
       "      <td>None</td>\n",
       "      <td>NOT AVAILABLE</td>\n",
       "      <td>NOT AVAILABLE</td>\n",
       "      <td>NO</td>\n",
       "      <td>YES</td>\n",
       "      <td>NO</td>\n",
       "    </tr>\n",
       "    <tr>\n",
       "      <th>397</th>\n",
       "      <td>PA00934</td>\n",
       "      <td>NORRISTOWN (SWEDE STREET)</td>\n",
       "      <td>MONTGOMERY COUNTY COMMISSIONERS, PARKS AND HER...</td>\n",
       "      <td>SATISFACTORY</td>\n",
       "      <td>LOW</td>\n",
       "      <td>NO</td>\n",
       "      <td>NO</td>\n",
       "      <td>NO</td>\n",
       "    </tr>\n",
       "    <tr>\n",
       "      <th>356</th>\n",
       "      <td>OK10302</td>\n",
       "      <td>NEWT GRAHAM LOCK AND DAM</td>\n",
       "      <td>USACE - TULSA DISTRICT</td>\n",
       "      <td>NOT AVAILABLE</td>\n",
       "      <td>NOT AVAILABLE</td>\n",
       "      <td>YES</td>\n",
       "      <td>NO</td>\n",
       "      <td>NO</td>\n",
       "    </tr>\n",
       "  </tbody>\n",
       "</table>\n",
       "</div>"
      ],
      "text/plain": [
       "      NID_ID                      DAM_NAME  \\\n",
       "437  TX03416              LAKE HOUSTON DAM   \n",
       "274  NJ00354                   BOONTON DAM   \n",
       "291  NY00046      NEW CROTON RESERVOIR DAM   \n",
       "394  PA00896                     FLAT ROCK   \n",
       "395  PA00897                     FAIRMOUNT   \n",
       "68   FL00169  CITY OF TAMPA WATERWORKS DAM   \n",
       "80   GA01473              DANIELL LAKE DAM   \n",
       "292  NY00061                   MUSCOOT DAM   \n",
       "397  PA00934     NORRISTOWN (SWEDE STREET)   \n",
       "356  OK10302      NEWT GRAHAM LOCK AND DAM   \n",
       "\n",
       "                                            OWNER_NAME       DAM_COND  \\\n",
       "437                                    CITY OF HOUSTON      NOT RATED   \n",
       "274          JERSEY CITY MUNICIPAL UTILITIES AUTHORITY   SATISFACTORY   \n",
       "291               NYCDEP DAMS EAST OF THE HUDSON RIVER      NOT RATED   \n",
       "394                                                DEP           FAIR   \n",
       "395                                               None  NOT AVAILABLE   \n",
       "68                                       CITY OF TAMPA   SATISFACTORY   \n",
       "80                  INDUSTRIAL PARK OWNERS ASSOCIATION      NOT RATED   \n",
       "292                                               None  NOT AVAILABLE   \n",
       "397  MONTGOMERY COUNTY COMMISSIONERS, PARKS AND HER...   SATISFACTORY   \n",
       "356                             USACE - TULSA DISTRICT  NOT AVAILABLE   \n",
       "\n",
       "        HAZ_POT_DS PROT_LAND IMP_STREAM CRIT_HAB  \n",
       "437  NOT AVAILABLE        NO         NO       NO  \n",
       "274           HIGH        NO        YES       NO  \n",
       "291           HIGH        NO        YES       NO  \n",
       "394            LOW        NO         NO       NO  \n",
       "395  NOT AVAILABLE        NO         NO       NO  \n",
       "68            HIGH        NO         NO       NO  \n",
       "80             LOW        NO         NO       NO  \n",
       "292  NOT AVAILABLE        NO        YES       NO  \n",
       "397            LOW        NO         NO       NO  \n",
       "356  NOT AVAILABLE       YES         NO       NO  "
      ]
     },
     "execution_count": 14,
     "metadata": {},
     "output_type": "execute_result"
    }
   ],
   "source": [
    "# Import scikitlearn to normalize data\n",
    "from sklearn.preprocessing import MinMaxScaler\n",
    "scaler = MinMaxScaler()\n",
    "NPD[['TOTAL_SCORE']]=scaler.fit_transform(NPD[['TOTAL_SCORE']])\n",
    "NPD.sort_values(by=\"TOTAL_SCORE\",ascending=False,inplace=True)\n",
    "NPD[['NID_ID','DAM_NAME','OWNER_NAME','DAM_COND','HAZ_POT_DS','PROT_LAND','IMP_STREAM','CRIT_HAB']].head(10)"
   ]
  },
  {
   "cell_type": "code",
   "execution_count": 15,
   "metadata": {},
   "outputs": [
    {
     "data": {
      "application/vnd.jupyter.widget-view+json": {
       "model_id": "f770e7d23e294ca4a4b0345e0c47acf9",
       "version_major": 2,
       "version_minor": 0
      },
      "text/plain": [
       "Map(center=[37, -95], controls=(ZoomControl(options=['position', 'zoom_in_text', 'zoom_in_title', 'zoom_out_te…"
      ]
     },
     "metadata": {},
     "output_type": "display_data"
    }
   ],
   "source": [
    "m.add_gdf(NPD.head(20), layer_name=\"NPD\")\n",
    "m"
   ]
  },
  {
   "cell_type": "code",
   "execution_count": null,
   "metadata": {},
   "outputs": [],
   "source": []
  }
 ],
 "metadata": {
  "kernelspec": {
   "display_name": "PyGIS",
   "language": "python",
   "name": "pygis"
  },
  "language_info": {
   "codemirror_mode": {
    "name": "ipython",
    "version": 3
   },
   "file_extension": ".py",
   "mimetype": "text/x-python",
   "name": "python",
   "nbconvert_exporter": "python",
   "pygments_lexer": "ipython3",
   "version": "3.9.12"
  },
  "orig_nbformat": 4,
  "vscode": {
   "interpreter": {
    "hash": "7afeb4050a4ed6f65f5a9691a61ac7a27d5cf5cc84caaf102f8d936ce3349846"
   }
  }
 },
 "nbformat": 4,
 "nbformat_minor": 2
}
